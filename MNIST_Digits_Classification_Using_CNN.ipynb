{
  "nbformat": 4,
  "nbformat_minor": 0,
  "metadata": {
    "colab": {
      "name": "MNIST-Digits-Classification-Using-CNN.ipynb",
      "provenance": [],
      "collapsed_sections": []
    },
    "kernelspec": {
      "name": "python3",
      "display_name": "Python 3"
    },
    "accelerator": "GPU"
  },
  "cells": [
    {
      "cell_type": "code",
      "metadata": {
        "id": "af339iiKywr6",
        "outputId": "7a578a73-5a4e-4fbc-93f2-741a44d910ed",
        "colab": {
          "base_uri": "https://localhost:8080/",
          "height": 35
        }
      },
      "source": [
        "%tensorflow_version 2.x\n",
        "import tensorflow as tf\n",
        "tf.__version__"
      ],
      "execution_count": null,
      "outputs": [
        {
          "output_type": "execute_result",
          "data": {
            "application/vnd.google.colaboratory.intrinsic": {
              "type": "string"
            },
            "text/plain": [
              "'2.2.0'"
            ]
          },
          "metadata": {
            "tags": []
          },
          "execution_count": 1
        }
      ]
    },
    {
      "cell_type": "markdown",
      "metadata": {
        "id": "17DGHLPN0VL3"
      },
      "source": [
        "Lets install all the libraries and pre-requisites"
      ]
    },
    {
      "cell_type": "code",
      "metadata": {
        "id": "IFHWpFGTxxki"
      },
      "source": [
        "import numpy                        as     np\n",
        "import pandas                       as     pd\n",
        "from   PIL                          import Image\n",
        "import matplotlib.pyplot            as     plt\n",
        "import cv2\n",
        "from tensorflow.keras.datasets      import mnist\n",
        "from tensorflow.keras.models        import Sequential\n",
        "from tensorflow.keras.layers        import Flatten, Dense, Conv2D, MaxPooling2D, Dropout\n",
        "from tensorflow.keras.losses        import categorical_crossentropy\n",
        "from tensorflow.keras.utils         import to_categorical\n",
        "from tensorflow.keras.activations   import relu,softmax\n",
        "from tensorflow.keras.optimizers    import Adam,RMSprop,SGD\n",
        "from sklearn.metrics                import classification_report,confusion_matrix,accuracy_score"
      ],
      "execution_count": null,
      "outputs": []
    },
    {
      "cell_type": "code",
      "metadata": {
        "id": "yeTVtG6jycJm"
      },
      "source": [
        "(x_train,y_train),(x_test,y_test) = mnist.load_data()"
      ],
      "execution_count": null,
      "outputs": []
    },
    {
      "cell_type": "markdown",
      "metadata": {
        "id": "2lzNp43Zl5zl"
      },
      "source": [
        "Now, We need to split the training and testing sets"
      ]
    },
    {
      "cell_type": "code",
      "metadata": {
        "id": "o9wG9pQg1bT4",
        "outputId": "1ab3c189-6e34-47fd-9887-a62a15136c5f",
        "colab": {
          "base_uri": "https://localhost:8080/",
          "height": 35
        }
      },
      "source": [
        "x_train.shape,y_train.shape,x_test.shape,y_test.shape"
      ],
      "execution_count": null,
      "outputs": [
        {
          "output_type": "execute_result",
          "data": {
            "text/plain": [
              "((60000, 28, 28), (60000,), (10000, 28, 28), (10000,))"
            ]
          },
          "metadata": {
            "tags": []
          },
          "execution_count": 4
        }
      ]
    },
    {
      "cell_type": "markdown",
      "metadata": {
        "id": "Ceq88TNLl_UO"
      },
      "source": [
        "Method to show images given the rows ,cols, image_labels and the images tensor"
      ]
    },
    {
      "cell_type": "code",
      "metadata": {
        "id": "VVEMXxVy1dMM"
      },
      "source": [
        "def show_images(r,c,images,image_labels):\n",
        "  rows, cols, axes  =  r,c,[]\n",
        "  fig = plt.figure(figsize=(10,10))\n",
        "  for i in range(rows*cols):\n",
        "    axes.append(fig.add_subplot(rows,cols,i+1))\n",
        "    plt.imshow(images[i])\n",
        "    plt.title(f\"Label : {image_labels[i]}\")\n",
        "  plt.show()\n"
      ],
      "execution_count": null,
      "outputs": []
    },
    {
      "cell_type": "code",
      "metadata": {
        "id": "sn2g43gf1fBP",
        "outputId": "fa1772d5-441d-42fb-f5f8-dc7ebdb5e22d",
        "colab": {
          "base_uri": "https://localhost:8080/",
          "height": 482
        }
      },
      "source": [
        "show_images(2,4,x_train,y_train)"
      ],
      "execution_count": null,
      "outputs": [
        {
          "output_type": "display_data",
          "data": {
            "image/png": "[encoded data removed]",
            "text/plain": [
              "<Figure size 720x720 with 8 Axes>"
            ]
          },
          "metadata": {
            "tags": [],
            "needs_background": "light"
          }
        }
      ]
    },
    {
      "cell_type": "markdown",
      "metadata": {
        "id": "_1w3A10XmNif"
      },
      "source": [
        ""
      ]
    },
    {
      "cell_type": "code",
      "metadata": {
        "id": "wXRHThxs1ik_",
        "outputId": "315f6432-b5b1-4abc-9650-0f995d7629a0",
        "colab": {
          "base_uri": "https://localhost:8080/",
          "height": 52
        }
      },
      "source": [
        "import collections\n",
        "counts = np.asarray(collections.Counter(y_train))\n",
        "counts"
      ],
      "execution_count": null,
      "outputs": [
        {
          "output_type": "execute_result",
          "data": {
            "text/plain": [
              "array(Counter({1: 6742, 7: 6265, 3: 6131, 2: 5958, 9: 5949, 0: 5923, 6: 5918, 8: 5851, 4: 5842, 5: 5421}),\n",
              "      dtype=object)"
            ]
          },
          "metadata": {
            "tags": []
          },
          "execution_count": 7
        }
      ]
    },
    {
      "cell_type": "code",
      "metadata": {
        "id": "VJhQUlBW0ZCR",
        "outputId": "595338d6-7b58-40c3-b077-04fe09382afa",
        "colab": {
          "base_uri": "https://localhost:8080/",
          "height": 35
        }
      },
      "source": [
        "x_train.shape,x_train.shape[0]"
      ],
      "execution_count": null,
      "outputs": [
        {
          "output_type": "execute_result",
          "data": {
            "text/plain": [
              "((60000, 28, 28), 60000)"
            ]
          },
          "metadata": {
            "tags": []
          },
          "execution_count": 8
        }
      ]
    },
    {
      "cell_type": "code",
      "metadata": {
        "id": "Kr1zwIdG6YuT",
        "outputId": "6a4ca875-244b-41c6-8b2f-4e0c5d10e936",
        "colab": {
          "base_uri": "https://localhost:8080/",
          "height": 35
        }
      },
      "source": [
        "#Min-Max Scaling\n",
        "x_train = x_train/255. \n",
        "x_test  = x_test/255.0\n",
        "\n",
        "# Reshaping the train and test images to take them into single channel\n",
        "x_train = x_train.reshape((x_train.shape[0],28,28,1))\n",
        "x_test = x_test.reshape((x_test.shape[0],28,28,1))\n",
        "\n",
        "#categorizing the data to avoid decimal answer during the prediction as we want either 0 or 1\n",
        "y_train = to_categorical(y_train) \n",
        "y_test  = to_categorical(y_test)\n",
        "\n",
        "x_train.shape,y_train.shape"
      ],
      "execution_count": null,
      "outputs": [
        {
          "output_type": "execute_result",
          "data": {
            "text/plain": [
              "((60000, 28, 28, 1), (60000, 10))"
            ]
          },
          "metadata": {
            "tags": []
          },
          "execution_count": 25
        }
      ]
    },
    {
      "cell_type": "code",
      "metadata": {
        "id": "JvdIQtw2lo2g"
      },
      "source": [
        "model = Sequential()\n",
        "model.add(Conv2D(32,(3,3),activation=relu,input_shape=(28,28,1)))\n",
        "model.add(Conv2D(64,(3,3),activation=relu))\n",
        "model.add(MaxPooling2D(pool_size=(2,2)))\n",
        "\n",
        "model.add(Conv2D(64,(3,3),activation=relu))\n",
        "model.add(MaxPooling2D(pool_size=(2,2)))\n",
        "\n",
        "model.add(Dense(60,activation=relu))\n",
        "model.add(Dropout(0.3))\n",
        "\n",
        "model.add(Flatten())\n",
        "model.add(Dense(30,activation=relu))\n",
        "model.add(Dropout(0.3))\n",
        "\n",
        "model.add(Dense(10,activation=softmax))"
      ],
      "execution_count": null,
      "outputs": []
    },
    {
      "cell_type": "code",
      "metadata": {
        "id": "8QZGVR035Jrh",
        "outputId": "25732a67-d74b-4f6a-b57e-62110e1c250a",
        "colab": {
          "base_uri": "https://localhost:8080/",
          "height": 537
        }
      },
      "source": [
        "model.summary()"
      ],
      "execution_count": null,
      "outputs": [
        {
          "output_type": "stream",
          "text": [
            "Model: \"sequential\"\n",
            "_________________________________________________________________\n",
            "Layer (type)                 Output Shape              Param #   \n",
            "=================================================================\n",
            "conv2d (Conv2D)              (None, 26, 26, 32)        320       \n",
            "_________________________________________________________________\n",
            "conv2d_1 (Conv2D)            (None, 24, 24, 64)        18496     \n",
            "_________________________________________________________________\n",
            "max_pooling2d (MaxPooling2D) (None, 12, 12, 64)        0         \n",
            "_________________________________________________________________\n",
            "conv2d_2 (Conv2D)            (None, 10, 10, 64)        36928     \n",
            "_________________________________________________________________\n",
            "max_pooling2d_1 (MaxPooling2 (None, 5, 5, 64)          0         \n",
            "_________________________________________________________________\n",
            "dense (Dense)                (None, 5, 5, 60)          3900      \n",
            "_________________________________________________________________\n",
            "dropout (Dropout)            (None, 5, 5, 60)          0         \n",
            "_________________________________________________________________\n",
            "flatten (Flatten)            (None, 1500)              0         \n",
            "_________________________________________________________________\n",
            "dense_1 (Dense)              (None, 30)                45030     \n",
            "_________________________________________________________________\n",
            "dropout_1 (Dropout)          (None, 30)                0         \n",
            "_________________________________________________________________\n",
            "dense_2 (Dense)              (None, 10)                310       \n",
            "=================================================================\n",
            "Total params: 104,984\n",
            "Trainable params: 104,984\n",
            "Non-trainable params: 0\n",
            "_________________________________________________________________\n"
          ],
          "name": "stdout"
        }
      ]
    },
    {
      "cell_type": "code",
      "metadata": {
        "id": "C0Yv2SoCptqW"
      },
      "source": [
        "model.compile(optimizer=\"RMSprop\",loss=categorical_crossentropy,metrics=[\"acc\"])"
      ],
      "execution_count": null,
      "outputs": []
    },
    {
      "cell_type": "code",
      "metadata": {
        "id": "83cGZiVEsZvF",
        "outputId": "e5a50e46-caec-44ad-acd6-c5a602299815",
        "colab": {
          "base_uri": "https://localhost:8080/",
          "height": 433
        }
      },
      "source": [
        "model_info = model.fit(x=x_train,y=y_train,epochs=12,validation_split=0.20)"
      ],
      "execution_count": null,
      "outputs": [
        {
          "output_type": "stream",
          "text": [
            "Epoch 1/12\n",
            "1500/1500 [==============================] - 17s 11ms/step - loss: 0.2895 - acc: 0.9111 - val_loss: 0.0635 - val_acc: 0.9807\n",
            "Epoch 2/12\n",
            "1500/1500 [==============================] - 16s 11ms/step - loss: 0.1130 - acc: 0.9679 - val_loss: 0.0825 - val_acc: 0.9754\n",
            "Epoch 3/12\n",
            "1500/1500 [==============================] - 16s 11ms/step - loss: 0.0909 - acc: 0.9735 - val_loss: 0.0438 - val_acc: 0.9892\n",
            "Epoch 4/12\n",
            "1500/1500 [==============================] - 16s 11ms/step - loss: 0.0841 - acc: 0.9763 - val_loss: 0.0408 - val_acc: 0.9883\n",
            "Epoch 5/12\n",
            "1500/1500 [==============================] - 16s 11ms/step - loss: 0.0792 - acc: 0.9775 - val_loss: 0.0625 - val_acc: 0.9847\n",
            "Epoch 6/12\n",
            "1500/1500 [==============================] - 16s 11ms/step - loss: 0.0755 - acc: 0.9797 - val_loss: 0.0472 - val_acc: 0.9880\n",
            "Epoch 7/12\n",
            "1500/1500 [==============================] - 16s 11ms/step - loss: 0.0795 - acc: 0.9794 - val_loss: 0.0457 - val_acc: 0.9877\n",
            "Epoch 8/12\n",
            "1500/1500 [==============================] - 16s 11ms/step - loss: 0.0828 - acc: 0.9778 - val_loss: 0.0476 - val_acc: 0.9889\n",
            "Epoch 9/12\n",
            "1500/1500 [==============================] - 16s 11ms/step - loss: 0.0898 - acc: 0.9777 - val_loss: 0.0437 - val_acc: 0.9902\n",
            "Epoch 10/12\n",
            "1500/1500 [==============================] - 16s 11ms/step - loss: 0.0910 - acc: 0.9768 - val_loss: 0.0616 - val_acc: 0.9894\n",
            "Epoch 11/12\n",
            "1500/1500 [==============================] - 16s 11ms/step - loss: 0.0942 - acc: 0.9765 - val_loss: 0.0643 - val_acc: 0.9855\n",
            "Epoch 12/12\n",
            "1500/1500 [==============================] - 16s 11ms/step - loss: 0.1078 - acc: 0.9728 - val_loss: 0.0715 - val_acc: 0.9847\n"
          ],
          "name": "stdout"
        }
      ]
    },
    {
      "cell_type": "code",
      "metadata": {
        "id": "HJ5s_Xp9s6oL"
      },
      "source": [
        "y_pred = model.predict(x_test)"
      ],
      "execution_count": null,
      "outputs": []
    },
    {
      "cell_type": "code",
      "metadata": {
        "id": "Mf__iVQ651q1",
        "outputId": "77a238a5-d874-4acd-ffc7-2f728268fe8b",
        "colab": {
          "base_uri": "https://localhost:8080/",
          "height": 35
        }
      },
      "source": [
        "_,acc = model.evaluate(x_test,y_test,verbose=0)\n",
        "acc"
      ],
      "execution_count": null,
      "outputs": [
        {
          "output_type": "execute_result",
          "data": {
            "text/plain": [
              "0.9872999787330627"
            ]
          },
          "metadata": {
            "tags": []
          },
          "execution_count": 37
        }
      ]
    },
    {
      "cell_type": "code",
      "metadata": {
        "id": "8SpHJsYV6GYH"
      },
      "source": [
        "y_pred = np.argmax(y_pred,axis=1)"
      ],
      "execution_count": null,
      "outputs": []
    },
    {
      "cell_type": "code",
      "metadata": {
        "id": "_ZgqjHR86JQD",
        "outputId": "e09866a2-dbba-4406-f3fe-206099dc2edc",
        "colab": {
          "base_uri": "https://localhost:8080/",
          "height": 299
        }
      },
      "source": [
        "plt.plot(model_info.history[\"loss\"],label=\"loss\")\n",
        "plt.plot(model_info.history[\"val_loss\"],label=\"val_loss\")\n",
        "plt.title(\"loss vs val_loss\")\n",
        "plt.legend()"
      ],
      "execution_count": null,
      "outputs": [
        {
          "output_type": "execute_result",
          "data": {
            "text/plain": [
              "<matplotlib.legend.Legend at 0x7f653cd5dc88>"
            ]
          },
          "metadata": {
            "tags": []
          },
          "execution_count": 49
        },
        {
          "output_type": "display_data",
          "data": {
            "image/png": "[encoded data removed]",
            "text/plain": [
              "<Figure size 432x288 with 1 Axes>"
            ]
          },
          "metadata": {
            "tags": [],
            "needs_background": "light"
          }
        }
      ]
    },
    {
      "cell_type": "code",
      "metadata": {
        "id": "9DqYZNft6qhm",
        "outputId": "abafb315-8f1e-42d8-8a76-a6f39c7dbee4",
        "colab": {
          "base_uri": "https://localhost:8080/",
          "height": 299
        }
      },
      "source": [
        "plt.plot(model_info.history[\"acc\"],label=\"acc\")\n",
        "plt.plot(model_info.history[\"val_acc\"],label=\"val_acc\")\n",
        "plt.title(\"acc vs val_acc\")\n",
        "plt.legend()"
      ],
      "execution_count": null,
      "outputs": [
        {
          "output_type": "execute_result",
          "data": {
            "text/plain": [
              "<matplotlib.legend.Legend at 0x7f653cd4dda0>"
            ]
          },
          "metadata": {
            "tags": []
          },
          "execution_count": 50
        },
        {
          "output_type": "display_data",
          "data": {
            "image/png": "[encoded data removed]",
            "text/plain": [
              "<Figure size 432x288 with 1 Axes>"
            ]
          },
          "metadata": {
            "tags": [],
            "needs_background": "light"
          }
        }
      ]
    },
    {
      "cell_type": "code",
      "metadata": {
        "id": "dvvxgCyj67uy",
        "outputId": "6dbee15b-a8c5-4bf8-a79d-a7e5b231bd95",
        "colab": {
          "base_uri": "https://localhost:8080/",
          "height": 283
        }
      },
      "source": [
        "x_test = x_test.reshape(10000,28,28)"
      ],
      "execution_count": null,
      "outputs": [
        {
          "output_type": "execute_result",
          "data": {
            "text/plain": [
              "<matplotlib.image.AxesImage at 0x7f653bee1668>"
            ]
          },
          "metadata": {
            "tags": []
          },
          "execution_count": 65
        },
        {
          "output_type": "display_data",
          "data": {
            "image/png": "[encoded data removed]",
            "text/plain": [
              "<Figure size 432x288 with 1 Axes>"
            ]
          },
          "metadata": {
            "tags": [],
            "needs_background": "light"
          }
        }
      ]
    },
    {
      "cell_type": "code",
      "metadata": {
        "id": "VAWDfHlA_LDV",
        "outputId": "76c59066-28f8-4d0f-f8ee-c26220bedd33",
        "colab": {
          "base_uri": "https://localhost:8080/",
          "height": 129
        }
      },
      "source": [
        "print(\"Prediction Result Sample for 10 images\")\n",
        "show_images(1,10,x_test,y_pred)"
      ],
      "execution_count": null,
      "outputs": [
        {
          "output_type": "stream",
          "text": [
            "Prediction Result Sample for 10 images\n"
          ],
          "name": "stdout"
        },
        {
          "output_type": "display_data",
          "data": {
            "image/png": "[encoded data removed]",
            "text/plain": [
              "<Figure size 720x720 with 10 Axes>"
            ]
          },
          "metadata": {
            "tags": [],
            "needs_background": "light"
          }
        }
      ]
    },
    {
      "cell_type": "code",
      "metadata": {
        "id": "WnBT9rTQ_ldm"
      },
      "source": [
        ""
      ],
      "execution_count": null,
      "outputs": []
    }
  ]
}